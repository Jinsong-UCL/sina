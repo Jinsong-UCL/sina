{
 "cells": [
  {
   "cell_type": "code",
   "outputs": [],
   "source": [
    "import torch\n",
    "import torch.nn as nn\n",
    "import torch.optim as optim\n",
    "from torch.utils.data import DataLoader, TensorDataset, random_split\n",
    "import numpy as np\n",
    "import matplotlib.pyplot as plt"
   ],
   "metadata": {
    "collapsed": false,
    "ExecuteTime": {
     "end_time": "2024-05-25T14:11:37.193186200Z",
     "start_time": "2024-05-25T14:11:37.186182300Z"
    }
   },
   "id": "fb6955cdfb0cf5ea",
   "execution_count": 3
  },
  {
   "cell_type": "code",
   "outputs": [],
   "source": [
    "# Define the neural network\n",
    "class SinApproximationNet(nn.Module):\n",
    "    def __init__(self):\n",
    "        super(SinApproximationNet, self).__init__()\n",
    "        self.fc1 = nn.Linear(25, 128)\n",
    "        self.fc2 = nn.Linear(128, 64)\n",
    "        self.fc3 = nn.Linear(64, 14)\n",
    "        self.relu = nn.ReLU()\n",
    "        \n",
    "    def forward(self, x):\n",
    "        x = self.relu(self.fc1(x))\n",
    "        x = self.relu(self.fc2(x))\n",
    "        x = self.fc3(x)\n",
    "        return x"
   ],
   "metadata": {
    "collapsed": false,
    "ExecuteTime": {
     "end_time": "2024-05-25T14:11:37.198506Z",
     "start_time": "2024-05-25T14:11:37.196998500Z"
    }
   },
   "id": "776a19f64b4fd0da",
   "execution_count": 4
  },
  {
   "cell_type": "code",
   "outputs": [],
   "source": [
    "# Generate the dataset\n",
    "def generate_dataset(num_samples=1000):\n",
    "    x = torch.linspace(-2 * torch.pi, 2 * torch.pi, num_samples).unsqueeze(1)\n",
    "    X = torch.cat([x ** i for i in range(25)], dim=1)\n",
    "    Y = torch.cat([torch.sin((i + 1) * x) for i in range(14)], dim=1)\n",
    "    return X, Y"
   ],
   "metadata": {
    "collapsed": false,
    "ExecuteTime": {
     "end_time": "2024-05-25T14:11:37.206032100Z",
     "start_time": "2024-05-25T14:11:37.199505600Z"
    }
   },
   "id": "c7f5ed97d20143cc",
   "execution_count": 5
  },
  {
   "cell_type": "code",
   "outputs": [],
   "source": [
    "# Split the dataset into training and testing sets using DataLoader\n",
    "def create_data_loaders(X, Y, batch_size=32, test_split=0.2):\n",
    "    dataset = TensorDataset(X, Y)\n",
    "    test_size = int(test_split * len(dataset))\n",
    "    train_size = len(dataset) - test_size\n",
    "    train_dataset, test_dataset = random_split(dataset, [train_size, test_size])\n",
    "    \n",
    "    train_loader = DataLoader(train_dataset, batch_size=batch_size, shuffle=True)\n",
    "    test_loader = DataLoader(test_dataset, batch_size=batch_size, shuffle=False)\n",
    "    \n",
    "    return train_loader, test_loader"
   ],
   "metadata": {
    "collapsed": false,
    "ExecuteTime": {
     "end_time": "2024-05-25T14:11:37.220165100Z",
     "start_time": "2024-05-25T14:11:37.205030700Z"
    }
   },
   "id": "d5d2f24472f5f41b",
   "execution_count": 6
  },
  {
   "cell_type": "code",
   "outputs": [],
   "source": [
    "# Training the network\n",
    "def train_model(model, criterion, optimizer, train_loader, epochs=1000):\n",
    "    model.train()\n",
    "    epoch_losses = []\n",
    "    for epoch in range(epochs):\n",
    "        epoch_loss = 0\n",
    "        for batch_X, batch_Y in train_loader:\n",
    "            optimizer.zero_grad()\n",
    "            outputs = model(batch_X)\n",
    "            loss = criterion(outputs, batch_Y)\n",
    "            loss.backward()\n",
    "            optimizer.step()\n",
    "            epoch_loss += loss.item()\n",
    "        \n",
    "        epoch_loss /= len(train_loader)\n",
    "        epoch_losses.append(epoch_loss)\n",
    "        \n",
    "        if (epoch + 1) % 100 == 0:\n",
    "            print(f'Epoch [{epoch + 1}/{epochs}], Loss: {epoch_loss:.4f}')\n",
    "    \n",
    "    return epoch_losses"
   ],
   "metadata": {
    "collapsed": false,
    "ExecuteTime": {
     "end_time": "2024-05-25T14:11:37.220165100Z",
     "start_time": "2024-05-25T14:11:37.212423500Z"
    }
   },
   "id": "9b9b2b22278cea39",
   "execution_count": 7
  },
  {
   "cell_type": "code",
   "outputs": [],
   "source": [
    "# Testing the network\n",
    "def test_model(model, test_loader):\n",
    "    model.eval()\n",
    "    total_loss = 0\n",
    "    criterion = nn.MSELoss()\n",
    "    with torch.no_grad():\n",
    "        for batch_X, batch_Y in test_loader:\n",
    "            outputs = model(batch_X)\n",
    "            loss = criterion(outputs, batch_Y)\n",
    "            total_loss += loss.item()\n",
    "    \n",
    "    avg_loss = total_loss / len(test_loader)\n",
    "    print(f'Test Loss: {avg_loss:.4f}')\n",
    "    return avg_loss"
   ],
   "metadata": {
    "collapsed": false,
    "ExecuteTime": {
     "end_time": "2024-05-25T14:11:37.225684600Z",
     "start_time": "2024-05-25T14:11:37.218166900Z"
    }
   },
   "id": "44ecbf02a12bbb9c",
   "execution_count": 8
  },
  {
   "cell_type": "code",
   "outputs": [
    {
     "name": "stdout",
     "output_type": "stream",
     "text": [
      "Using device: cuda\n"
     ]
    }
   ],
   "source": [
    "device = torch.device('cuda' if torch.cuda.is_available() else 'cpu')\n",
    "print(f'Using device: {device}')\n",
    "\n",
    "# Instantiate the model, define the loss function and the optimizer\n",
    "model = SinApproximationNet().to(device)\n",
    "criterion = nn.MSELoss()\n",
    "optimizer = optim.Adam(model.parameters(), lr=0.001)\n",
    "\n",
    "# Generate the dataset\n",
    "X, Y = generate_dataset(num_samples=10000)\n",
    "X, Y = X.to(device), Y.to(device)"
   ],
   "metadata": {
    "collapsed": false,
    "ExecuteTime": {
     "end_time": "2024-05-25T14:11:37.411422700Z",
     "start_time": "2024-05-25T14:11:37.224683900Z"
    }
   },
   "id": "4577a768e51eaa5",
   "execution_count": 9
  },
  {
   "cell_type": "code",
   "outputs": [
    {
     "ename": "TypeError",
     "evalue": "train_model() got multiple values for argument 'epochs'",
     "output_type": "error",
     "traceback": [
      "\u001B[1;31m---------------------------------------------------------------------------\u001B[0m",
      "\u001B[1;31mTypeError\u001B[0m                                 Traceback (most recent call last)",
      "Cell \u001B[1;32mIn[10], line 5\u001B[0m\n\u001B[0;32m      2\u001B[0m train_loader, test_loader \u001B[38;5;241m=\u001B[39m create_data_loaders(X, Y, batch_size\u001B[38;5;241m=\u001B[39m\u001B[38;5;241m32\u001B[39m, test_split\u001B[38;5;241m=\u001B[39m\u001B[38;5;241m0.2\u001B[39m)\n\u001B[0;32m      4\u001B[0m \u001B[38;5;66;03m# Train the model\u001B[39;00m\n\u001B[1;32m----> 5\u001B[0m epoch_losses \u001B[38;5;241m=\u001B[39m \u001B[43mtrain_model\u001B[49m\u001B[43m(\u001B[49m\u001B[43mmodel\u001B[49m\u001B[43m,\u001B[49m\u001B[43m \u001B[49m\u001B[43mcriterion\u001B[49m\u001B[43m,\u001B[49m\u001B[43m \u001B[49m\u001B[43moptimizer\u001B[49m\u001B[43m,\u001B[49m\u001B[43m \u001B[49m\u001B[43mtrain_loader\u001B[49m\u001B[43m,\u001B[49m\u001B[43m \u001B[49m\u001B[43mdevice\u001B[49m\u001B[43m,\u001B[49m\u001B[43m \u001B[49m\u001B[43mepochs\u001B[49m\u001B[38;5;241;43m=\u001B[39;49m\u001B[38;5;241;43m1000\u001B[39;49m\u001B[43m)\u001B[49m\n",
      "\u001B[1;31mTypeError\u001B[0m: train_model() got multiple values for argument 'epochs'"
     ]
    }
   ],
   "source": [
    "# Create data loaders\n",
    "train_loader, test_loader = create_data_loaders(X, Y, batch_size=32, test_split=0.2)\n",
    "\n",
    "# Train the model\n",
    "epoch_losses = train_model(model, criterion, optimizer, train_loader, device, epochs=1000)"
   ],
   "metadata": {
    "collapsed": false,
    "ExecuteTime": {
     "end_time": "2024-05-25T14:11:37.420076Z",
     "start_time": "2024-05-25T14:11:37.409423700Z"
    }
   },
   "id": "81f5281bb90c3781",
   "execution_count": 10
  },
  {
   "cell_type": "code",
   "outputs": [],
   "source": [
    "# Test the model\n",
    "test_model(model, test_loader, device)"
   ],
   "metadata": {
    "collapsed": false,
    "ExecuteTime": {
     "start_time": "2024-05-25T14:11:37.422075800Z"
    }
   },
   "id": "93c8f55da61a1c0a"
  },
  {
   "cell_type": "code",
   "outputs": [],
   "source": [
    "# Plot the training loss over epochs\n",
    "plt.plot(epoch_losses)\n",
    "plt.xlabel('Epoch')\n",
    "plt.ylabel('Loss')\n",
    "plt.title('Training Loss over Epochs')\n",
    "plt.show()\n",
    "\n",
    "# Example prediction\n",
    "model.eval()\n",
    "with torch.no_grad():\n",
    "    for batch_X, batch_Y in test_loader:\n",
    "        predicted = model(batch_X)\n",
    "        break\n",
    "\n",
    "# Print a few test outputs and corresponding ground truth values for comparison\n",
    "print(\"Predicted vs Actual values:\")\n",
    "for i in range(5):\n",
    "    print(f'Predicted: {predicted[i].numpy()}, Actual: {batch_Y[i].numpy()}')\n"
   ],
   "metadata": {
    "collapsed": false,
    "ExecuteTime": {
     "start_time": "2024-05-25T14:11:37.423075800Z"
    }
   },
   "id": "d16d24d03d3cf87f"
  }
 ],
 "metadata": {
  "kernelspec": {
   "display_name": "Python 3",
   "language": "python",
   "name": "python3"
  },
  "language_info": {
   "codemirror_mode": {
    "name": "ipython",
    "version": 2
   },
   "file_extension": ".py",
   "mimetype": "text/x-python",
   "name": "python",
   "nbconvert_exporter": "python",
   "pygments_lexer": "ipython2",
   "version": "2.7.6"
  }
 },
 "nbformat": 4,
 "nbformat_minor": 5
}
